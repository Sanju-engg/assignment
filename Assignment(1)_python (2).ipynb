{
  "nbformat": 4,
  "nbformat_minor": 0,
  "metadata": {
    "colab": {
      "provenance": []
    },
    "kernelspec": {
      "name": "python3",
      "display_name": "Python 3"
    },
    "language_info": {
      "name": "python"
    }
  },
  "cells": [
    {
      "cell_type": "markdown",
      "source": [
        "#                                                    NAME : SANJU G P\n",
        "#                                                     TOPIC: ASSIGNMENT(1)ON PYTHON.."
      ],
      "metadata": {
        "id": "L3ANNx8HUTj5"
      }
    },
    {
      "cell_type": "markdown",
      "source": [],
      "metadata": {
        "id": "t6y7V_L0Y6-A"
      }
    },
    {
      "cell_type": "markdown",
      "source": [
        "1. Understanding Variables"
      ],
      "metadata": {
        "id": "11nX1K2UY6cH"
      }
    },
    {
      "cell_type": "markdown",
      "source": [
        "1.a) Define a variable in Python. Provide an example of how to create a variable that stores your name.\n",
        "Ans:       \n",
        "variables are the location or a name, that can able to store a data interms of int, float, string etc                                                          \n",
        "name=\"sanjugp\" # name is a variable"
      ],
      "metadata": {
        "id": "e42AjgecHyzJ"
      }
    },
    {
      "cell_type": "markdown",
      "source": [
        "1.b) What is the difference between a variable and a constant? Can we have constants in Python?                                     \n",
        "1) variables are the location or a name, that can able to store a data interms of 11int, float, string etc                                                         \n",
        "2) constant are the fixed value we can not alter that. there is no constant in python."
      ],
      "metadata": {
        "id": "CtU0ZA_7H6bc"
      }
    },
    {
      "cell_type": "markdown",
      "source": [
        "2) Working with Data types\n",
        "\n",
        ">   \n",
        "\n"
      ],
      "metadata": {
        "id": "mn4zx1AoIL3m"
      }
    },
    {
      "cell_type": "markdown",
      "source": [
        "a) create variables of the fallowing types in python"
      ],
      "metadata": {
        "id": "k5g9uop6VGlL"
      }
    },
    {
      "cell_type": "markdown",
      "source": [
        "1.Integer"
      ],
      "metadata": {
        "id": "FJhGumhaVUZD"
      }
    },
    {
      "cell_type": "code",
      "source": [
        "x=75\n",
        "type(x)"
      ],
      "metadata": {
        "colab": {
          "base_uri": "https://localhost:8080/"
        },
        "id": "J0WSwbeUIMs4",
        "outputId": "9496ddc5-aa6d-4bfb-d275-ad89bd70f0a6"
      },
      "execution_count": 34,
      "outputs": [
        {
          "output_type": "execute_result",
          "data": {
            "text/plain": [
              "int"
            ]
          },
          "metadata": {},
          "execution_count": 34
        }
      ]
    },
    {
      "cell_type": "markdown",
      "source": [
        "2.Float\n"
      ],
      "metadata": {
        "id": "fpOrrkkmVaQl"
      }
    },
    {
      "cell_type": "code",
      "source": [
        "y=95.5\n",
        "type(y)"
      ],
      "metadata": {
        "colab": {
          "base_uri": "https://localhost:8080/"
        },
        "id": "dqsa8obgIQ3Z",
        "outputId": "c9d000fe-20ba-426b-a619-b5bc41c35267"
      },
      "execution_count": 2,
      "outputs": [
        {
          "output_type": "execute_result",
          "data": {
            "text/plain": [
              "float"
            ]
          },
          "metadata": {},
          "execution_count": 2
        }
      ]
    },
    {
      "cell_type": "markdown",
      "source": [
        "3.String"
      ],
      "metadata": {
        "id": "WIVKqSgRVeSk"
      }
    },
    {
      "cell_type": "code",
      "source": [
        "name=\"sanju\"\n",
        "type(name)"
      ],
      "metadata": {
        "colab": {
          "base_uri": "https://localhost:8080/"
        },
        "id": "Ymn86Q1DIWR8",
        "outputId": "b1433239-7621-4dd7-b554-3a73d756557d"
      },
      "execution_count": 3,
      "outputs": [
        {
          "output_type": "execute_result",
          "data": {
            "text/plain": [
              "str"
            ]
          },
          "metadata": {},
          "execution_count": 3
        }
      ]
    },
    {
      "cell_type": "markdown",
      "source": [
        "4.Boolean"
      ],
      "metadata": {
        "id": "EpC4P_EAVj9q"
      }
    },
    {
      "cell_type": "code",
      "source": [
        "a=25\n",
        "b=a<5\n",
        "type(b)"
      ],
      "metadata": {
        "colab": {
          "base_uri": "https://localhost:8080/"
        },
        "id": "jW9A6fB_IzDV",
        "outputId": "d92c3264-8f23-4332-e2e2-9b514243a4bb"
      },
      "execution_count": 5,
      "outputs": [
        {
          "output_type": "execute_result",
          "data": {
            "text/plain": [
              "bool"
            ]
          },
          "metadata": {},
          "execution_count": 5
        }
      ]
    },
    {
      "cell_type": "markdown",
      "source": [
        "2 b)Write a Python script to display the type of each variable you created."
      ],
      "metadata": {
        "id": "dxGTC5WrWqn5"
      }
    },
    {
      "cell_type": "code",
      "source": [
        "a=22\n",
        "print(\"type of a is\",{type(a)}) # integer variable\n",
        "b=8.5\n",
        "print(\"type of b is\",{type(b)}) # float variable\n",
        "c=\"sam\"\n",
        "print(\"type of c is\",{type(c)}) # string variable\n",
        "d=[1,2,3]\n",
        "print(\"type of d is\",{type(d)}) # list variable\n",
        "e=(1,2,3)\n",
        "print(\"type of e is\",{type(e)}) # tuple variable\n",
        "f=True\n",
        "print(\"type of f is\",{type(f)}) # boolean variable"
      ],
      "metadata": {
        "colab": {
          "base_uri": "https://localhost:8080/"
        },
        "id": "GImETKMtW3-B",
        "outputId": "b4ec883b-b62e-4632-bfd8-592d00fbaf24"
      },
      "execution_count": 35,
      "outputs": [
        {
          "output_type": "stream",
          "name": "stdout",
          "text": [
            "type of a is {<class 'int'>}\n",
            "type of b is {<class 'float'>}\n",
            "type of c is {<class 'str'>}\n",
            "type of d is {<class 'list'>}\n",
            "type of e is {<class 'tuple'>}\n",
            "type of f is {<class 'bool'>}\n"
          ]
        }
      ]
    },
    {
      "cell_type": "markdown",
      "source": [
        "3 a) Explain the following arithmetic operators with examples:\n",
        "1. Addition (`+`)\n",
        "2. Subtraction (`-`)\n",
        "3. Multiplication (``)\n",
        "4. Division (`/`)\n",
        "5. Floor Division (`//`)\n",
        "6. Modulus (`%`)\n",
        "7. Exponentiation (``)"
      ],
      "metadata": {
        "id": "ek15Vtn7I_VU"
      }
    },
    {
      "cell_type": "code",
      "source": [
        "#1.addition\n",
        "a=10\n",
        "b=50\n",
        "result=a+b\n",
        "print(result)"
      ],
      "metadata": {
        "colab": {
          "base_uri": "https://localhost:8080/"
        },
        "id": "s7h0eELUJMDu",
        "outputId": "565ea1e7-5d78-40d6-b2b2-51af20355881"
      },
      "execution_count": 6,
      "outputs": [
        {
          "output_type": "stream",
          "name": "stdout",
          "text": [
            "60\n"
          ]
        }
      ]
    },
    {
      "cell_type": "code",
      "source": [
        "# 2.substraction\n",
        "a=70\n",
        "b=50\n",
        "result=a-b\n",
        "print(result)"
      ],
      "metadata": {
        "colab": {
          "base_uri": "https://localhost:8080/"
        },
        "id": "icPRKzhKKh6w",
        "outputId": "a191f560-a2f6-4971-da9b-86c2b5f141b7"
      },
      "execution_count": 8,
      "outputs": [
        {
          "output_type": "stream",
          "name": "stdout",
          "text": [
            "20\n"
          ]
        }
      ]
    },
    {
      "cell_type": "code",
      "source": [
        "# 3.multiplication\n",
        "a=10\n",
        "b=8\n",
        "result=a*b\n",
        "print(result)"
      ],
      "metadata": {
        "colab": {
          "base_uri": "https://localhost:8080/"
        },
        "id": "6Ywvrvr7KrYk",
        "outputId": "92a27aef-e498-44f4-ef79-823d5ed957b5"
      },
      "execution_count": 10,
      "outputs": [
        {
          "output_type": "stream",
          "name": "stdout",
          "text": [
            "80\n"
          ]
        }
      ]
    },
    {
      "cell_type": "code",
      "source": [
        "# 4.division\n",
        "a=7\n",
        "b=7\n",
        "result=a/b\n",
        "print(result)"
      ],
      "metadata": {
        "colab": {
          "base_uri": "https://localhost:8080/"
        },
        "id": "NOVWUvzXKvCW",
        "outputId": "20d97554-cb69-4542-ba80-820812fdf2e8"
      },
      "execution_count": 14,
      "outputs": [
        {
          "output_type": "stream",
          "name": "stdout",
          "text": [
            "1.0\n"
          ]
        }
      ]
    },
    {
      "cell_type": "code",
      "source": [
        "# 5.modulus\n",
        "a=20\n",
        "b=3\n",
        "result=a%b\n",
        "print(result)"
      ],
      "metadata": {
        "colab": {
          "base_uri": "https://localhost:8080/"
        },
        "id": "mp9AiL_LKyOx",
        "outputId": "b582f061-1da5-479a-e133-4b15f88280c6"
      },
      "execution_count": 16,
      "outputs": [
        {
          "output_type": "stream",
          "name": "stdout",
          "text": [
            "2\n"
          ]
        }
      ]
    },
    {
      "cell_type": "code",
      "source": [
        "# 6.exponentation\n",
        "a=4\n",
        "b=2\n",
        "result=a**b\n",
        "print(result)"
      ],
      "metadata": {
        "colab": {
          "base_uri": "https://localhost:8080/"
        },
        "id": "eawgpoxAK1Az",
        "outputId": "53cad3c8-acfb-4e71-ba12-0099d9584284"
      },
      "execution_count": 18,
      "outputs": [
        {
          "output_type": "stream",
          "name": "stdout",
          "text": [
            "16\n"
          ]
        }
      ]
    },
    {
      "cell_type": "code",
      "source": [
        "# 7.floor division\n",
        "a=15\n",
        "b=4\n",
        "result=a//b\n",
        "print(result)"
      ],
      "metadata": {
        "colab": {
          "base_uri": "https://localhost:8080/"
        },
        "id": "ofKCjfBIK70o",
        "outputId": "637281f0-1e9d-433f-f57b-012e4bc4df95"
      },
      "execution_count": 19,
      "outputs": [
        {
          "output_type": "stream",
          "name": "stdout",
          "text": [
            "3\n"
          ]
        }
      ]
    },
    {
      "cell_type": "markdown",
      "source": [
        "3 b)Write a Python script to calculate the area of a rectangle using variables `length` and `width` with\n",
        "values 5 and 10, respectively. Use the multiplication operator."
      ],
      "metadata": {
        "id": "vvRWhj48LARz"
      }
    },
    {
      "cell_type": "code",
      "source": [
        "l=5\n",
        "w=10\n",
        "area=l*w\n",
        "print(area)"
      ],
      "metadata": {
        "colab": {
          "base_uri": "https://localhost:8080/"
        },
        "id": "wnaqaFwZLIYJ",
        "outputId": "c9fe23c1-05d9-41b0-9824-8c6fd020af64"
      },
      "execution_count": 36,
      "outputs": [
        {
          "output_type": "stream",
          "name": "stdout",
          "text": [
            "50\n"
          ]
        }
      ]
    },
    {
      "cell_type": "markdown",
      "source": [
        "4 a)Comparision and logical operators\n",
        "a) Explain the following comparison operators with examples:\n",
        "1. Equal to (`==`)\n",
        "2. Not equal to (`!=`)\n",
        "3. Greater than (`>`)\n",
        "4. Less than (`<`)\n",
        "5. Greater than or equal to (`>=`)\n",
        "6. Less than or equal to (`<=`)\n",
        "\n"
      ],
      "metadata": {
        "id": "rq7xrDm_LbhQ"
      }
    },
    {
      "cell_type": "code",
      "source": [
        "#  1.equal To\n",
        "a=7\n",
        "b=7\n",
        "a==7\n"
      ],
      "metadata": {
        "colab": {
          "base_uri": "https://localhost:8080/"
        },
        "id": "3PoEqHTMLQ6J",
        "outputId": "f0ebac89-81c0-46b1-c8b7-19451c026b32"
      },
      "execution_count": 21,
      "outputs": [
        {
          "output_type": "execute_result",
          "data": {
            "text/plain": [
              "True"
            ]
          },
          "metadata": {},
          "execution_count": 21
        }
      ]
    },
    {
      "cell_type": "code",
      "source": [
        "#  2.not equal to\n",
        "a=7\n",
        "b=7\n",
        "a!=7\n"
      ],
      "metadata": {
        "colab": {
          "base_uri": "https://localhost:8080/"
        },
        "id": "jbl2LYTELinp",
        "outputId": "c3f60c2d-03bb-4161-d419-383181ad311a"
      },
      "execution_count": 22,
      "outputs": [
        {
          "output_type": "execute_result",
          "data": {
            "text/plain": [
              "False"
            ]
          },
          "metadata": {},
          "execution_count": 22
        }
      ]
    },
    {
      "cell_type": "code",
      "source": [
        "#  3.greater than\n",
        "a=6\n",
        "b=3\n",
        "a>b\n"
      ],
      "metadata": {
        "colab": {
          "base_uri": "https://localhost:8080/"
        },
        "id": "kYvMDRWILlFD",
        "outputId": "5ff08acb-ca75-40d9-c574-a661a5c1f1cc"
      },
      "execution_count": 23,
      "outputs": [
        {
          "output_type": "execute_result",
          "data": {
            "text/plain": [
              "True"
            ]
          },
          "metadata": {},
          "execution_count": 23
        }
      ]
    },
    {
      "cell_type": "code",
      "source": [
        "#  4.lesser than\n",
        "a=5\n",
        "b=4\n",
        "a<b"
      ],
      "metadata": {
        "colab": {
          "base_uri": "https://localhost:8080/"
        },
        "id": "SVnYlESBLoci",
        "outputId": "430b5d44-62b4-4674-a441-616c7ae913bb"
      },
      "execution_count": 24,
      "outputs": [
        {
          "output_type": "execute_result",
          "data": {
            "text/plain": [
              "False"
            ]
          },
          "metadata": {},
          "execution_count": 24
        }
      ]
    },
    {
      "cell_type": "code",
      "source": [
        "#  5.greater than or equal\n",
        "a=5\n",
        "b=3\n",
        "a>=b"
      ],
      "metadata": {
        "colab": {
          "base_uri": "https://localhost:8080/"
        },
        "id": "EK8W1AgfLrsh",
        "outputId": "e6327496-6fc3-49f0-aba1-61a6bf12b5d9"
      },
      "execution_count": null,
      "outputs": [
        {
          "output_type": "execute_result",
          "data": {
            "text/plain": [
              "True"
            ]
          },
          "metadata": {},
          "execution_count": 25
        }
      ]
    },
    {
      "cell_type": "code",
      "source": [
        "#  6.less than or equal\n",
        "a=10\n",
        "b=40\n",
        "a<=b"
      ],
      "metadata": {
        "colab": {
          "base_uri": "https://localhost:8080/"
        },
        "id": "xgeCjfaYL2pS",
        "outputId": "4de4ff80-72cc-4991-fdb6-ed564137d277"
      },
      "execution_count": 25,
      "outputs": [
        {
          "output_type": "execute_result",
          "data": {
            "text/plain": [
              "True"
            ]
          },
          "metadata": {},
          "execution_count": 25
        }
      ]
    },
    {
      "cell_type": "markdown",
      "source": [
        "# 4 b)Using logical operators (`and`, `or`, `not`), write a Python script that checks if a number is positive and even\n",
        "\n"
      ],
      "metadata": {
        "id": "VB45_wKKL8JU"
      }
    },
    {
      "cell_type": "code",
      "source": [
        "num=int(input(\"enter a number\"))\n",
        "if num>0 and num%2==0:\n",
        "    print(\"the number is positive and even\")\n",
        "else :\n",
        "    print(\"the number is not positive and even\")"
      ],
      "metadata": {
        "colab": {
          "base_uri": "https://localhost:8080/"
        },
        "id": "TIhJYqjaL5c1",
        "outputId": "48c813ce-931e-4685-bea3-6ca1272ff71e"
      },
      "execution_count": null,
      "outputs": [
        {
          "output_type": "stream",
          "name": "stdout",
          "text": [
            "enter a number43\n",
            "the number is not positive and even\n"
          ]
        }
      ]
    },
    {
      "cell_type": "markdown",
      "source": [
        "5 a)What is type casting? Explain the difference between implicit and explicit type casting with\n",
        "examples.                                                                     \n",
        "ex: a=10   b=5.5\n",
        "\n",
        " r=a+b                                  \n",
        "\n",
        "\n",
        "Explicit: Manually we convert the data type of a variable                       \n",
        "ex: a=\"1000\"          \n",
        "r=int(a)"
      ],
      "metadata": {
        "id": "wmFnSeyGMZFt"
      }
    },
    {
      "cell_type": "markdown",
      "source": [
        "5 b) Write a Python script that:\n",
        "1. Converts a float to an integer.\n",
        "2. Converts an integer to a string.\n",
        "3. Converts a string to a float.Python script for"
      ],
      "metadata": {
        "id": "tD4xU3XuNH8Q"
      }
    },
    {
      "cell_type": "code",
      "source": [
        "# 1.convert float to an int\n",
        "x=88.88\n",
        "y=int(x)\n",
        "print(y)\n",
        "type(y)"
      ],
      "metadata": {
        "id": "ZtX2ubPHMPqN",
        "colab": {
          "base_uri": "https://localhost:8080/"
        },
        "outputId": "f60a1290-d876-4947-e228-65b7ee034106"
      },
      "execution_count": 26,
      "outputs": [
        {
          "output_type": "stream",
          "name": "stdout",
          "text": [
            "88\n"
          ]
        },
        {
          "output_type": "execute_result",
          "data": {
            "text/plain": [
              "int"
            ]
          },
          "metadata": {},
          "execution_count": 26
        }
      ]
    },
    {
      "cell_type": "code",
      "source": [
        "# 1.convert int to an str\n",
        "x=3000\n",
        "b=str(a)\n",
        "print(b)\n",
        "type(b)"
      ],
      "metadata": {
        "colab": {
          "base_uri": "https://localhost:8080/"
        },
        "id": "lI-X4o0YPC1d",
        "outputId": "cdbc2896-0ae4-4a5e-f797-26a9ec91bc66"
      },
      "execution_count": 27,
      "outputs": [
        {
          "output_type": "stream",
          "name": "stdout",
          "text": [
            "10\n"
          ]
        },
        {
          "output_type": "execute_result",
          "data": {
            "text/plain": [
              "str"
            ]
          },
          "metadata": {},
          "execution_count": 27
        }
      ]
    },
    {
      "cell_type": "code",
      "source": [
        "# 1.convert str to an float\n",
        "a=\"639.26\"\n",
        "b=float(a)\n",
        "print(b)\n",
        "type(b)\n"
      ],
      "metadata": {
        "colab": {
          "base_uri": "https://localhost:8080/"
        },
        "id": "ZzqrA_RUPLW1",
        "outputId": "d43096b8-e1d4-4734-906f-719d6b5807bd"
      },
      "execution_count": 28,
      "outputs": [
        {
          "output_type": "stream",
          "name": "stdout",
          "text": [
            "639.26\n"
          ]
        },
        {
          "output_type": "execute_result",
          "data": {
            "text/plain": [
              "float"
            ]
          },
          "metadata": {},
          "execution_count": 28
        }
      ]
    },
    {
      "cell_type": "markdown",
      "source": [
        "6) Practical Exercise: Mini Calculator\n",
        "\n",
        "Write a Python script that asks the user to input two numbers and then:\n",
        "1. Adds the two numbers and prints the result.\n",
        "2. Subtracts the second number from the first and prints the result.\n",
        "3. Multiplies the two numbers and prints the result.\n",
        "4. Divides the first number by the second and prints the result (handle division by zero).\n",
        "5. Converts the sum of the numbers to a string and prints the type of the result.\n"
      ],
      "metadata": {
        "id": "mRR8JoIbPaR4"
      }
    },
    {
      "cell_type": "code",
      "source": [
        "# 1.adding two numbers\n",
        "x=45\n",
        "y=10\n",
        "result=x+y\n",
        "print(result)"
      ],
      "metadata": {
        "colab": {
          "base_uri": "https://localhost:8080/"
        },
        "id": "MgEbghKEPU9L",
        "outputId": "95e83517-b16a-4fd7-b29a-e32ffe2a42dd"
      },
      "execution_count": 30,
      "outputs": [
        {
          "output_type": "stream",
          "name": "stdout",
          "text": [
            "55\n"
          ]
        }
      ]
    },
    {
      "cell_type": "code",
      "source": [
        "# 2.sub\n",
        "x=45\n",
        "y=10\n",
        "result=x-y\n",
        "print(result)"
      ],
      "metadata": {
        "colab": {
          "base_uri": "https://localhost:8080/"
        },
        "id": "lnnLqJUmPi9U",
        "outputId": "ca5a0064-bb3a-4596-c92f-7f3423c59a8f"
      },
      "execution_count": 29,
      "outputs": [
        {
          "output_type": "stream",
          "name": "stdout",
          "text": [
            "35\n"
          ]
        }
      ]
    },
    {
      "cell_type": "code",
      "source": [
        "# 3.multiply two numbers\n",
        "x=2\n",
        "y=4\n",
        "result=x*y\n",
        "print(result)"
      ],
      "metadata": {
        "colab": {
          "base_uri": "https://localhost:8080/"
        },
        "id": "jTSEc0GCP73U",
        "outputId": "e08bb492-da63-4b0e-815c-d8b3b40eb768"
      },
      "execution_count": 31,
      "outputs": [
        {
          "output_type": "stream",
          "name": "stdout",
          "text": [
            "8\n"
          ]
        }
      ]
    },
    {
      "cell_type": "code",
      "source": [
        "# 4.division\n",
        "x=8\n",
        "y=2\n",
        "result=x/y\n",
        "print(result)"
      ],
      "metadata": {
        "colab": {
          "base_uri": "https://localhost:8080/"
        },
        "id": "0RkQpGRLQBm0",
        "outputId": "2ac4de81-cb77-41f8-e59a-064f1c93eb7a"
      },
      "execution_count": 32,
      "outputs": [
        {
          "output_type": "stream",
          "name": "stdout",
          "text": [
            "4.0\n"
          ]
        }
      ]
    },
    {
      "cell_type": "code",
      "source": [
        "# 5.convert the sum of the numbers to a str and print the type of result\n",
        "a=3000\n",
        "b=4000\n",
        "result=a+b\n",
        "str(result)\n",
        "type(str(result))"
      ],
      "metadata": {
        "colab": {
          "base_uri": "https://localhost:8080/"
        },
        "id": "oxpp3tqNQHLa",
        "outputId": "7767c2aa-45fe-44be-dbf2-3e4f1bcbd7ef"
      },
      "execution_count": 33,
      "outputs": [
        {
          "output_type": "execute_result",
          "data": {
            "text/plain": [
              "str"
            ]
          },
          "metadata": {},
          "execution_count": 33
        }
      ]
    },
    {
      "cell_type": "code",
      "source": [],
      "metadata": {
        "id": "rTSECIF6QKpt"
      },
      "execution_count": null,
      "outputs": []
    }
  ]
}